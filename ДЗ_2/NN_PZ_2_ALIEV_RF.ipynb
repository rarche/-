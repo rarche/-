{
 "cells": [
  {
   "cell_type": "markdown",
   "metadata": {},
   "source": [
    "Попробуйте обучить, нейронную сеть на Keras(рассмотренную на уроке) на датасете MNIST с другими параметрами. Опишите в комментарии к уроку - какой результата вы добились от нейросети? Что помогло вам улучшить ее точность?"
   ]
  },
  {
   "cell_type": "code",
   "execution_count": 129,
   "metadata": {},
   "outputs": [
    {
     "name": "stdout",
     "output_type": "stream",
     "text": [
      "Requirement already satisfied: tensorflow in c:\\users\\ramil\\anaconda3\\lib\\site-packages (2.11.0)\n",
      "Requirement already satisfied: tensorflow-intel==2.11.0 in c:\\users\\ramil\\anaconda3\\lib\\site-packages (from tensorflow) (2.11.0)\n",
      "Requirement already satisfied: termcolor>=1.1.0 in c:\\users\\ramil\\anaconda3\\lib\\site-packages (from tensorflow-intel==2.11.0->tensorflow) (2.2.0)\n",
      "Requirement already satisfied: h5py>=2.9.0 in c:\\users\\ramil\\anaconda3\\lib\\site-packages (from tensorflow-intel==2.11.0->tensorflow) (3.2.1)\n",
      "Requirement already satisfied: google-pasta>=0.1.1 in c:\\users\\ramil\\anaconda3\\lib\\site-packages (from tensorflow-intel==2.11.0->tensorflow) (0.2.0)\n",
      "Requirement already satisfied: astunparse>=1.6.0 in c:\\users\\ramil\\anaconda3\\lib\\site-packages (from tensorflow-intel==2.11.0->tensorflow) (1.6.3)\n",
      "Note: you may need to restart the kernel to use updated packages.\n",
      "Requirement already satisfied: absl-py>=1.0.0 in c:\\users\\ramil\\anaconda3\\lib\\site-packages (from tensorflow-intel==2.11.0->tensorflow) (1.4.0)\n",
      "Requirement already satisfied: protobuf<3.20,>=3.9.2 in c:\\users\\ramil\\anaconda3\\lib\\site-packages (from tensorflow-intel==2.11.0->tensorflow) (3.19.6)\n",
      "Requirement already satisfied: gast<=0.4.0,>=0.2.1 in c:\\users\\ramil\\anaconda3\\lib\\site-packages (from tensorflow-intel==2.11.0->tensorflow) (0.4.0)\n",
      "Requirement already satisfied: tensorboard<2.12,>=2.11 in c:\\users\\ramil\\anaconda3\\lib\\site-packages (from tensorflow-intel==2.11.0->tensorflow) (2.11.2)\n",
      "Requirement already satisfied: grpcio<2.0,>=1.24.3 in c:\\users\\ramil\\anaconda3\\lib\\site-packages (from tensorflow-intel==2.11.0->tensorflow) (1.51.3)\n",
      "Requirement already satisfied: wrapt>=1.11.0 in c:\\users\\ramil\\anaconda3\\lib\\site-packages (from tensorflow-intel==2.11.0->tensorflow) (1.12.1)\n",
      "Requirement already satisfied: typing-extensions>=3.6.6 in c:\\users\\ramil\\anaconda3\\lib\\site-packages (from tensorflow-intel==2.11.0->tensorflow) (3.10.0.2)\n",
      "Requirement already satisfied: flatbuffers>=2.0 in c:\\users\\ramil\\anaconda3\\lib\\site-packages (from tensorflow-intel==2.11.0->tensorflow) (23.3.3)\n",
      "Requirement already satisfied: tensorflow-estimator<2.12,>=2.11.0 in c:\\users\\ramil\\anaconda3\\lib\\site-packages (from tensorflow-intel==2.11.0->tensorflow) (2.11.0)\n",
      "Requirement already satisfied: opt-einsum>=2.3.2 in c:\\users\\ramil\\anaconda3\\lib\\site-packages (from tensorflow-intel==2.11.0->tensorflow) (3.3.0)\n",
      "Requirement already satisfied: tensorflow-io-gcs-filesystem>=0.23.1 in c:\\users\\ramil\\anaconda3\\lib\\site-packages (from tensorflow-intel==2.11.0->tensorflow) (0.31.0)\n",
      "Requirement already satisfied: keras<2.12,>=2.11.0 in c:\\users\\ramil\\anaconda3\\lib\\site-packages (from tensorflow-intel==2.11.0->tensorflow) (2.11.0)\n",
      "Requirement already satisfied: numpy>=1.20 in c:\\users\\ramil\\anaconda3\\lib\\site-packages (from tensorflow-intel==2.11.0->tensorflow) (1.20.3)\n",
      "Requirement already satisfied: libclang>=13.0.0 in c:\\users\\ramil\\anaconda3\\lib\\site-packages (from tensorflow-intel==2.11.0->tensorflow) (15.0.6.1)\n",
      "Requirement already satisfied: setuptools in c:\\users\\ramil\\anaconda3\\lib\\site-packages (from tensorflow-intel==2.11.0->tensorflow) (58.0.4)\n",
      "Requirement already satisfied: six>=1.12.0 in c:\\users\\ramil\\anaconda3\\lib\\site-packages (from tensorflow-intel==2.11.0->tensorflow) (1.16.0)\n",
      "Requirement already satisfied: packaging in c:\\users\\ramil\\anaconda3\\lib\\site-packages (from tensorflow-intel==2.11.0->tensorflow) (21.0)\n",
      "Requirement already satisfied: wheel<1.0,>=0.23.0 in c:\\users\\ramil\\anaconda3\\lib\\site-packages (from astunparse>=1.6.0->tensorflow-intel==2.11.0->tensorflow) (0.37.0)\n",
      "Requirement already satisfied: google-auth<3,>=1.6.3 in c:\\users\\ramil\\anaconda3\\lib\\site-packages (from tensorboard<2.12,>=2.11->tensorflow-intel==2.11.0->tensorflow) (2.16.2)\n",
      "Requirement already satisfied: google-auth-oauthlib<0.5,>=0.4.1 in c:\\users\\ramil\\anaconda3\\lib\\site-packages (from tensorboard<2.12,>=2.11->tensorflow-intel==2.11.0->tensorflow) (0.4.6)\n",
      "Requirement already satisfied: tensorboard-plugin-wit>=1.6.0 in c:\\users\\ramil\\anaconda3\\lib\\site-packages (from tensorboard<2.12,>=2.11->tensorflow-intel==2.11.0->tensorflow) (1.8.1)\n",
      "Requirement already satisfied: requests<3,>=2.21.0 in c:\\users\\ramil\\anaconda3\\lib\\site-packages (from tensorboard<2.12,>=2.11->tensorflow-intel==2.11.0->tensorflow) (2.26.0)\n",
      "Requirement already satisfied: werkzeug>=1.0.1 in c:\\users\\ramil\\anaconda3\\lib\\site-packages (from tensorboard<2.12,>=2.11->tensorflow-intel==2.11.0->tensorflow) (2.0.2)\n",
      "Requirement already satisfied: tensorboard-data-server<0.7.0,>=0.6.0 in c:\\users\\ramil\\anaconda3\\lib\\site-packages (from tensorboard<2.12,>=2.11->tensorflow-intel==2.11.0->tensorflow) (0.6.1)\n",
      "Requirement already satisfied: markdown>=2.6.8 in c:\\users\\ramil\\anaconda3\\lib\\site-packages (from tensorboard<2.12,>=2.11->tensorflow-intel==2.11.0->tensorflow) (3.4.1)\n",
      "Requirement already satisfied: cachetools<6.0,>=2.0.0 in c:\\users\\ramil\\anaconda3\\lib\\site-packages (from google-auth<3,>=1.6.3->tensorboard<2.12,>=2.11->tensorflow-intel==2.11.0->tensorflow) (5.3.0)\n",
      "Requirement already satisfied: pyasn1-modules>=0.2.1 in c:\\users\\ramil\\anaconda3\\lib\\site-packages (from google-auth<3,>=1.6.3->tensorboard<2.12,>=2.11->tensorflow-intel==2.11.0->tensorflow) (0.2.8)\n",
      "Requirement already satisfied: rsa<5,>=3.1.4 in c:\\users\\ramil\\anaconda3\\lib\\site-packages (from google-auth<3,>=1.6.3->tensorboard<2.12,>=2.11->tensorflow-intel==2.11.0->tensorflow) (4.9)\n",
      "Requirement already satisfied: requests-oauthlib>=0.7.0 in c:\\users\\ramil\\anaconda3\\lib\\site-packages (from google-auth-oauthlib<0.5,>=0.4.1->tensorboard<2.12,>=2.11->tensorflow-intel==2.11.0->tensorflow) (1.3.1)\n",
      "Requirement already satisfied: importlib-metadata>=4.4 in c:\\users\\ramil\\anaconda3\\lib\\site-packages (from markdown>=2.6.8->tensorboard<2.12,>=2.11->tensorflow-intel==2.11.0->tensorflow) (4.8.1)\n",
      "Requirement already satisfied: zipp>=0.5 in c:\\users\\ramil\\anaconda3\\lib\\site-packages (from importlib-metadata>=4.4->markdown>=2.6.8->tensorboard<2.12,>=2.11->tensorflow-intel==2.11.0->tensorflow) (3.6.0)\n",
      "Requirement already satisfied: pyasn1<0.5.0,>=0.4.6 in c:\\users\\ramil\\anaconda3\\lib\\site-packages (from pyasn1-modules>=0.2.1->google-auth<3,>=1.6.3->tensorboard<2.12,>=2.11->tensorflow-intel==2.11.0->tensorflow) (0.4.8)\n",
      "Requirement already satisfied: charset-normalizer~=2.0.0 in c:\\users\\ramil\\anaconda3\\lib\\site-packages (from requests<3,>=2.21.0->tensorboard<2.12,>=2.11->tensorflow-intel==2.11.0->tensorflow) (2.0.4)\n",
      "Requirement already satisfied: certifi>=2017.4.17 in c:\\users\\ramil\\anaconda3\\lib\\site-packages (from requests<3,>=2.21.0->tensorboard<2.12,>=2.11->tensorflow-intel==2.11.0->tensorflow) (2021.10.8)\n",
      "Requirement already satisfied: idna<4,>=2.5 in c:\\users\\ramil\\anaconda3\\lib\\site-packages (from requests<3,>=2.21.0->tensorboard<2.12,>=2.11->tensorflow-intel==2.11.0->tensorflow) (3.2)\n",
      "Requirement already satisfied: urllib3<1.27,>=1.21.1 in c:\\users\\ramil\\anaconda3\\lib\\site-packages (from requests<3,>=2.21.0->tensorboard<2.12,>=2.11->tensorflow-intel==2.11.0->tensorflow) (1.26.7)\n",
      "Requirement already satisfied: oauthlib>=3.0.0 in c:\\users\\ramil\\anaconda3\\lib\\site-packages (from requests-oauthlib>=0.7.0->google-auth-oauthlib<0.5,>=0.4.1->tensorboard<2.12,>=2.11->tensorflow-intel==2.11.0->tensorflow) (3.2.2)\n",
      "Requirement already satisfied: pyparsing>=2.0.2 in c:\\users\\ramil\\anaconda3\\lib\\site-packages (from packaging->tensorflow-intel==2.11.0->tensorflow) (3.0.4)\n"
     ]
    }
   ],
   "source": [
    "pip install tensorflow"
   ]
  },
  {
   "cell_type": "code",
   "execution_count": 130,
   "metadata": {
    "id": "05hfRCv09U9D"
   },
   "outputs": [
    {
     "name": "stdout",
     "output_type": "stream",
     "text": [
      "Requirement already satisfied: keras in c:\\users\\ramil\\anaconda3\\lib\\site-packages (2.11.0)\n",
      "Note: you may need to restart the kernel to use updated packages.\n"
     ]
    }
   ],
   "source": [
    "pip install keras"
   ]
  },
  {
   "cell_type": "code",
   "execution_count": 131,
   "metadata": {
    "colab": {
     "base_uri": "https://localhost:8080/",
     "height": 36
    },
    "id": "zR9dvBWLJdfa",
    "outputId": "605814d0-58f3-4b4a-85e1-259e16cd986f"
   },
   "outputs": [
    {
     "data": {
      "text/plain": [
       "'2.11.0'"
      ]
     },
     "execution_count": 131,
     "metadata": {},
     "output_type": "execute_result"
    }
   ],
   "source": [
    "import keras\n",
    "keras.__version__"
   ]
  },
  {
   "cell_type": "code",
   "execution_count": 132,
   "metadata": {
    "colab": {
     "base_uri": "https://localhost:8080/",
     "height": 36
    },
    "id": "3fwDFMMPJDFE",
    "outputId": "01aaff55-52b8-4d90-cfa3-7d74a075728e"
   },
   "outputs": [
    {
     "data": {
      "text/plain": [
       "'tensorflow'"
      ]
     },
     "execution_count": 132,
     "metadata": {},
     "output_type": "execute_result"
    }
   ],
   "source": [
    "keras.backend.backend()"
   ]
  },
  {
   "cell_type": "markdown",
   "metadata": {
    "id": "EAwWzAS29U9F"
   },
   "source": [
    "Давайте попробуем получить датасет mnist и проанализировать его содержимое."
   ]
  },
  {
   "cell_type": "code",
   "execution_count": 133,
   "metadata": {
    "colab": {
     "base_uri": "https://localhost:8080/"
    },
    "id": "p6MGnz8EJoaW",
    "outputId": "01f0e0d7-2062-4b1f-c7cc-f0dc79a90f0e"
   },
   "outputs": [
    {
     "name": "stdout",
     "output_type": "stream",
     "text": [
      "(60000, 28, 28) (10000, 28, 28)\n",
      "(60000,)\n"
     ]
    }
   ],
   "source": [
    "import matplotlib.pyplot as plt\n",
    "\n",
    "from keras.datasets import fashion_mnist\n",
    "import numpy as np\n",
    "\n",
    "\n",
    "(X_train, y_train_labels), (X_test, y_test_labels) = fashion_mnist.load_data()\n",
    "\n",
    "print(X_train.shape, X_test.shape)\n",
    "print(y_train_labels.shape)"
   ]
  },
  {
   "cell_type": "code",
   "execution_count": 134,
   "metadata": {
    "colab": {
     "base_uri": "https://localhost:8080/",
     "height": 282
    },
    "id": "lMcBd9o8LmLH",
    "outputId": "ed0a1e16-6b94-40ab-ec96-37624daa526c"
   },
   "outputs": [
    {
     "name": "stdout",
     "output_type": "stream",
     "text": [
      "Label is 0\n"
     ]
    },
    {
     "data": {
      "image/png": "[encoded data removed]",
      "text/plain": [
       "<Figure size 432x288 with 1 Axes>"
      ]
     },
     "metadata": {
      "needs_background": "light"
     },
     "output_type": "display_data"
    }
   ],
   "source": [
    "ind = np.random.randint(0, X_train.shape[0])\n",
    "plt.imshow(X_train[ind], cmap='gray')\n",
    "print(f'Label is {y_train_labels[ind]}')"
   ]
  },
  {
   "cell_type": "code",
   "execution_count": 135,
   "metadata": {
    "colab": {
     "base_uri": "https://localhost:8080/"
    },
    "id": "WBuaTmSTKW-V",
    "outputId": "2a986514-9bb0-4eb1-d466-1484d9679d44"
   },
   "outputs": [
    {
     "data": {
      "text/plain": [
       "(0, 255)"
      ]
     },
     "execution_count": 135,
     "metadata": {},
     "output_type": "execute_result"
    }
   ],
   "source": [
    "X_train.min(), X_train.max()"
   ]
  },
  {
   "cell_type": "code",
   "execution_count": 136,
   "metadata": {},
   "outputs": [
    {
     "name": "stdout",
     "output_type": "stream",
     "text": [
      "0.0 1.0\n",
      "-1.0 1.0\n"
     ]
    }
   ],
   "source": [
    "# Нормировка\n",
    "print((X_train / 255.0).min(), (X_train / 255.0).max())\n",
    "print((X_train / 127.5 - 1).min(), (X_train / 127.5 - 1).max())"
   ]
  },
  {
   "cell_type": "code",
   "execution_count": 137,
   "metadata": {
    "colab": {
     "base_uri": "https://localhost:8080/"
    },
    "id": "M6s8m-_8MEwx",
    "outputId": "fd7f7e4c-8e1f-43df-8e24-54074b45a876"
   },
   "outputs": [
    {
     "data": {
      "text/plain": [
       "(0.0, 1.0)"
      ]
     },
     "execution_count": 137,
     "metadata": {},
     "output_type": "execute_result"
    }
   ],
   "source": [
    "# Нормировка\n",
    "X_train = X_train / 255.0\n",
    "X_test = X_test / 255.0\n",
    "X_train.min(), X_train.max()"
   ]
  },
  {
   "cell_type": "code",
   "execution_count": 138,
   "metadata": {
    "colab": {
     "base_uri": "https://localhost:8080/"
    },
    "id": "L4loJteUNIAp",
    "outputId": "cb7adf2a-2508-479c-b704-dede1788ad72"
   },
   "outputs": [
    {
     "data": {
      "text/plain": [
       "((60000, 784), (10000, 784))"
      ]
     },
     "execution_count": 138,
     "metadata": {},
     "output_type": "execute_result"
    }
   ],
   "source": [
    "# Вытягивание признаков\n",
    "X_train = X_train.reshape((-1, 28 * 28))\n",
    "X_test = X_test.reshape((-1, 28 * 28))\n",
    "\n",
    "X_train.shape, X_test.shape"
   ]
  },
  {
   "cell_type": "code",
   "execution_count": 139,
   "metadata": {
    "colab": {
     "base_uri": "https://localhost:8080/"
    },
    "id": "8zjWkJsDbIR9",
    "outputId": "7098c4cf-49d9-4fa1-e1e5-f59122a95ba0"
   },
   "outputs": [
    {
     "data": {
      "text/plain": [
       "array([[0., 0., 0., ..., 0., 0., 0.],\n",
       "       [0., 0., 0., ..., 0., 0., 0.],\n",
       "       [0., 0., 0., ..., 0., 0., 0.],\n",
       "       ...,\n",
       "       [0., 0., 0., ..., 0., 0., 0.],\n",
       "       [0., 0., 0., ..., 0., 0., 0.],\n",
       "       [0., 0., 0., ..., 0., 0., 0.]])"
      ]
     },
     "execution_count": 139,
     "metadata": {},
     "output_type": "execute_result"
    }
   ],
   "source": [
    "X_train"
   ]
  },
  {
   "cell_type": "code",
   "execution_count": 140,
   "metadata": {},
   "outputs": [
    {
     "data": {
      "text/plain": [
       "784"
      ]
     },
     "execution_count": 140,
     "metadata": {},
     "output_type": "execute_result"
    }
   ],
   "source": [
    "len(X_train[0])"
   ]
  },
  {
   "cell_type": "markdown",
   "metadata": {
    "id": "Y6btW5Oz9U9W"
   },
   "source": [
    "### **Создание модели**"
   ]
  },
  {
   "cell_type": "markdown",
   "metadata": {
    "id": "jgVdsO619U9Y"
   },
   "source": [
    "После первичной подготовки данных дальше как правило следует создание модели нейронной сети, которая будет учиться на этих данных.\n",
    "\n",
    "Ниже типичный код учебной нейросети."
   ]
  },
  {
   "cell_type": "code",
   "execution_count": 141,
   "metadata": {
    "colab": {
     "base_uri": "https://localhost:8080/"
    },
    "id": "n4d7k7H6ScCz",
    "outputId": "17ebdd6c-cc5d-4029-b3c2-6133984acea3"
   },
   "outputs": [],
   "source": [
    "from keras.layers import Dense\n",
    "from keras.models import Sequential"
   ]
  },
  {
   "cell_type": "code",
   "execution_count": 142,
   "metadata": {
    "colab": {
     "base_uri": "https://localhost:8080/"
    },
    "id": "7FVfRog_SMgT",
    "outputId": "cf2edfef-7a21-46cb-f08a-c80865be0169"
   },
   "outputs": [
    {
     "data": {
      "text/plain": [
       "array([[0., 0., 0., 0., 0., 0., 0., 0., 0., 1.],\n",
       "       [1., 0., 0., 0., 0., 0., 0., 0., 0., 0.],\n",
       "       [1., 0., 0., 0., 0., 0., 0., 0., 0., 0.],\n",
       "       [0., 0., 0., 1., 0., 0., 0., 0., 0., 0.],\n",
       "       [1., 0., 0., 0., 0., 0., 0., 0., 0., 0.]], dtype=float32)"
      ]
     },
     "execution_count": 142,
     "metadata": {},
     "output_type": "execute_result"
    }
   ],
   "source": [
    "from keras.utils.np_utils import to_categorical\n",
    "\n",
    "\n",
    "y_train = to_categorical(y_train_labels)\n",
    "y_test = to_categorical(y_test_labels)\n",
    "\n",
    "y_train[:5]"
   ]
  },
  {
   "cell_type": "code",
   "execution_count": 143,
   "metadata": {
    "colab": {
     "base_uri": "https://localhost:8080/"
    },
    "id": "_v47tBDpZcEu",
    "outputId": "c9e021d0-1fd9-47ee-9e60-e9c294c07079"
   },
   "outputs": [
    {
     "data": {
      "text/plain": [
       "(60000, 784)"
      ]
     },
     "execution_count": 143,
     "metadata": {},
     "output_type": "execute_result"
    }
   ],
   "source": [
    "X_train.shape"
   ]
  },
  {
   "cell_type": "code",
   "execution_count": 144,
   "metadata": {
    "colab": {
     "base_uri": "https://localhost:8080/"
    },
    "id": "OIdK-fYRMvF9",
    "outputId": "0bbb5e79-c09f-4575-b4a5-fb0444df34fc"
   },
   "outputs": [
    {
     "name": "stdout",
     "output_type": "stream",
     "text": [
      "Количество нейронов скрытого слоя сети = 12, Accuracy: [0.7520166635513306, 0.8432333469390869, 0.8592333197593689, 0.8666999936103821, 0.873283326625824]\n",
      "Количество нейронов скрытого слоя сети = 32, Accuracy: [0.7619166374206543, 0.8456500172615051, 0.8614500164985657, 0.8669999837875366, 0.8745499849319458]\n",
      "Количество нейронов скрытого слоя сети = 40, Accuracy: [0.7691333293914795, 0.8496166467666626, 0.8618000149726868, 0.8686166405677795, 0.8783666491508484]\n",
      "Количество нейронов скрытого слоя сети = 64, Accuracy: [0.772683322429657, 0.8477833271026611, 0.8607666492462158, 0.8673499822616577, 0.8763333559036255]\n"
     ]
    }
   ],
   "source": [
    "# влияние количества нейронов скрытого слоя на качество обучения двухслойной сети\n",
    "for n_amount in [12,32,40,64]:\n",
    "    model = Sequential([\n",
    "    Dense(64, input_shape=(28 * 28,), activation='relu'),\n",
    "    Dense(n_amount, activation='relu'),\n",
    "    Dense(10, activation='sigmoid')\n",
    "])\n",
    "    \n",
    "    model.compile(\n",
    "                  optimizer='adam',\n",
    "                  loss='categorical_crossentropy',\n",
    "                  metrics=['accuracy'],\n",
    "                )\n",
    "    \n",
    "    history = model.fit(X_train, y_train,\n",
    "                    epochs=5,\n",
    "                    batch_size=256,\n",
    "                    verbose=0,\n",
    "                    validation_data=(X_test, y_test)\n",
    "                    )\n",
    "    print(f\"Количество нейронов скрытого слоя сети = {n_amount}, Accuracy: {history.history['accuracy']}\")"
   ]
  },
  {
   "cell_type": "markdown",
   "metadata": {},
   "source": [
    "**бОльшая ширина слоя повышает качество обучения двухслойной сети**"
   ]
  },
  {
   "cell_type": "code",
   "execution_count": 145,
   "metadata": {},
   "outputs": [
    {
     "name": "stdout",
     "output_type": "stream",
     "text": [
      "Model: \"sequential_91\"\n",
      "_________________________________________________________________\n",
      " Layer (type)                Output Shape              Param #   \n",
      "=================================================================\n",
      " dense_323 (Dense)           (None, 64)                50240     \n",
      "                                                                 \n",
      " dense_324 (Dense)           (None, 32)                2080      \n",
      "                                                                 \n",
      " dense_325 (Dense)           (None, 32)                1056      \n",
      "                                                                 \n",
      " dense_326 (Dense)           (None, 32)                1056      \n",
      "                                                                 \n",
      " dense_327 (Dense)           (None, 32)                1056      \n",
      "                                                                 \n",
      " dense_328 (Dense)           (None, 32)                1056      \n",
      "                                                                 \n",
      " dense_329 (Dense)           (None, 32)                1056      \n",
      "                                                                 \n",
      " dense_330 (Dense)           (None, 32)                1056      \n",
      "                                                                 \n",
      " dense_331 (Dense)           (None, 32)                1056      \n",
      "                                                                 \n",
      " dense_332 (Dense)           (None, 32)                1056      \n",
      "                                                                 \n",
      " dense_333 (Dense)           (None, 10)                330       \n",
      "                                                                 \n",
      "=================================================================\n",
      "Total params: 61,098\n",
      "Trainable params: 61,098\n",
      "Non-trainable params: 0\n",
      "_________________________________________________________________\n",
      "[0.6005499958992004, 0.8111833333969116, 0.8476333618164062, 0.8577166795730591, 0.8671333193778992]\n"
     ]
    }
   ],
   "source": [
    "# влияние количества слоев на качество обучения\n",
    "model = Sequential([\n",
    "    Dense(64, input_shape=(28 * 28,), activation='relu'),\n",
    "    Dense(32, activation='relu'),\n",
    "    Dense(32, activation='relu'),\n",
    "    Dense(32, activation='relu'),\n",
    "    Dense(32, activation='relu'),\n",
    "    Dense(32, activation='relu'),\n",
    "    Dense(32, activation='relu'),\n",
    "    Dense(32, activation='relu'),\n",
    "    Dense(32, activation='relu'),\n",
    "    Dense(32, activation='relu'),\n",
    "    Dense(10, activation='sigmoid')\n",
    "])\n",
    "model.summary()\n",
    "    \n",
    "model.compile(\n",
    "            optimizer='adam',\n",
    "            loss='categorical_crossentropy',\n",
    "            metrics=['accuracy'],\n",
    "            )\n",
    "    \n",
    "history = model.fit(X_train, y_train,\n",
    "                epochs=5,\n",
    "                batch_size=256,\n",
    "                verbose=0,\n",
    "                validation_data=(X_test, y_test)\n",
    "                )\n",
    "print(history.history['accuracy'])"
   ]
  },
  {
   "cell_type": "markdown",
   "metadata": {},
   "source": [
    "2 слоя - Accuracy: [0.7771333456039429, 0.8469333052635193, 0.8633333444595337, 0.8705499768257141, 0.8750500082969666]\n",
    "3 слоя - Accuracy: [0.7404999732971191, 0.8462833166122437, 0.8603166937828064, 0.8668500185012817, 0.8731666803359985]\n",
    "5 cлоев - Accuracy:[0.6978999972343445, 0.8394166827201843, 0.8553500175476074, 0.8622999787330627, 0.871483325958252]\n",
    "10 cлоев - Accuracy: [0.6361166834831238, 0.8196666836738586, 0.8446999788284302, 0.8572166562080383, 0.8621000051498413]"
   ]
  },
  {
   "cell_type": "markdown",
   "metadata": {},
   "source": [
    "**Увеличение количества слоев при примерно одинаковом количестве обучаемых параметров не способствует увеличению качества обучения**"
   ]
  },
  {
   "cell_type": "code",
   "execution_count": 146,
   "metadata": {},
   "outputs": [
    {
     "name": "stdout",
     "output_type": "stream",
     "text": [
      "Количество эпох = 5, Accuracy: [0.7674333453178406, 0.8494333624839783, 0.864466667175293, 0.868066668510437, 0.87663334608078]\n",
      "Количество эпох = 10, Accuracy: [0.7690333127975464, 0.8472999930381775, 0.8603666424751282, 0.8677833080291748, 0.8750666379928589, 0.8780999779701233, 0.8823333382606506, 0.8859333395957947, 0.8888999819755554, 0.8899499773979187]\n",
      "Количество эпох = 20, Accuracy: [0.7723666429519653, 0.8461999893188477, 0.8606333136558533, 0.866433322429657, 0.8750166893005371, 0.8786666393280029, 0.8830500245094299, 0.8863999843597412, 0.8892166614532471, 0.8928333520889282, 0.8952500224113464, 0.896049976348877, 0.8986166715621948, 0.9028666615486145, 0.9042333364486694, 0.9063000082969666, 0.9061166644096375, 0.9080666899681091, 0.910183310508728, 0.912850022315979]\n"
     ]
    }
   ],
   "source": [
    "# влияние количества эпох на качество обучения сети\n",
    "for n_epochs in [5,10,20]:\n",
    "    model = Sequential([\n",
    "    Dense(64, input_shape=(28 * 28,), activation='relu'),\n",
    "    Dense(32, activation='relu'),\n",
    "    Dense(10, activation='sigmoid')\n",
    "])\n",
    "    \n",
    "    model.compile(\n",
    "                  optimizer='adam',\n",
    "                  loss='categorical_crossentropy',\n",
    "                  metrics=['accuracy'],\n",
    "                )\n",
    "    \n",
    "    history = model.fit(X_train, y_train,\n",
    "                    epochs=n_epochs,\n",
    "                    batch_size=256,\n",
    "                    verbose=0,\n",
    "                    validation_data=(X_test, y_test)\n",
    "                    )\n",
    "    print(f\"Количество эпох = {n_epochs}, Accuracy: {history.history['accuracy']}\")"
   ]
  },
  {
   "cell_type": "markdown",
   "metadata": {},
   "source": [
    "**Увеличение количества эпох положительно влияет на качество обучения (однако большое количество эпох приводит к большим временным затратам)**"
   ]
  },
  {
   "cell_type": "code",
   "execution_count": 147,
   "metadata": {},
   "outputs": [
    {
     "name": "stdout",
     "output_type": "stream",
     "text": [
      "Размер батча = 100, Accuracy: [0.7997166514396667, 0.8557166457176208, 0.868066668510437, 0.8761666417121887, 0.8816666603088379]\n",
      "Размер батча = 256, Accuracy: [0.7757166624069214, 0.8492000102996826, 0.8637499809265137, 0.8679333329200745, 0.8765333294868469]\n",
      "Размер батча = 512, Accuracy: [0.716866672039032, 0.8348333239555359, 0.8518999814987183, 0.8607500195503235, 0.8657166957855225]\n",
      "Размер батча = 1000, Accuracy: [0.6468833088874817, 0.8118333220481873, 0.8337833285331726, 0.8445500135421753, 0.854533314704895]\n"
     ]
    }
   ],
   "source": [
    "# влияние размера батча на качество обучения сети\n",
    "for n_batch in [100,256,512,1000]:\n",
    "    model = Sequential([\n",
    "    Dense(64, input_shape=(28 * 28,), activation='relu'),\n",
    "    Dense(32, activation='relu'),\n",
    "    Dense(10, activation='sigmoid')\n",
    "])\n",
    "    \n",
    "    model.compile(\n",
    "                  optimizer='adam',\n",
    "                  loss='categorical_crossentropy',\n",
    "                  metrics=['accuracy'],\n",
    "                )\n",
    "    \n",
    "    history = model.fit(X_train, y_train,\n",
    "                    epochs=5,\n",
    "                    batch_size=n_batch,\n",
    "                    verbose=0,\n",
    "                    validation_data=(X_test, y_test)\n",
    "                    )\n",
    "    \n",
    "    print(f\"Размер батча = {n_batch}, Accuracy: {history.history['accuracy']}\")"
   ]
  },
  {
   "cell_type": "markdown",
   "metadata": {},
   "source": [
    "**Чем меньше размер батча, тем лучше результаты обучения**"
   ]
  },
  {
   "cell_type": "code",
   "execution_count": 148,
   "metadata": {},
   "outputs": [],
   "source": [
    "from keras import optimizers as op"
   ]
  },
  {
   "cell_type": "code",
   "execution_count": 149,
   "metadata": {},
   "outputs": [
    {
     "name": "stdout",
     "output_type": "stream",
     "text": [
      "Оптимизатор = SGD, Accuracy: [0.5062500238418579, 0.687583327293396, 0.7430499792098999, 0.7724999785423279, 0.7914166450500488]\n",
      "Оптимизатор = RMSprop, Accuracy: [0.7591166496276855, 0.8350833058357239, 0.8521166443824768, 0.8625500202178955, 0.8693333268165588]\n",
      "Оптимизатор = Adagrad, Accuracy: [0.31279999017715454, 0.569766640663147, 0.6582833528518677, 0.6877833604812622, 0.7082499861717224]\n",
      "Оптимизатор = Adam, Accuracy: [0.7707666754722595, 0.8484166860580444, 0.8620499968528748, 0.8677999973297119, 0.8752333521842957]\n",
      "Оптимизатор = Nadam, Accuracy: [0.7681833505630493, 0.8490666747093201, 0.8624833226203918, 0.8703500032424927, 0.8783000111579895]\n",
      "Оптимизатор = Adamax, Accuracy: [0.7249333262443542, 0.8271499872207642, 0.8426833152770996, 0.8509166836738586, 0.8561499714851379]\n"
     ]
    }
   ],
   "source": [
    "# влияние выбора оптимизатора на качество обучения сети\n",
    "import tensorflow as tf\n",
    "tf.random.set_seed(1)\n",
    "\n",
    "for opt in [op.SGD(), op.RMSprop(), op.Adagrad(), op.Adam(), op.Nadam(), op.Adamax()]:\n",
    "    model = Sequential([\n",
    "    Dense(64, input_shape=(28 * 28,), activation='relu'),\n",
    "    Dense(32, activation='relu'),\n",
    "    Dense(10, activation='sigmoid')\n",
    "])\n",
    "    \n",
    "    model.compile(\n",
    "                  optimizer=opt,\n",
    "                  loss='categorical_crossentropy',\n",
    "                  metrics=['accuracy'],\n",
    "                )\n",
    "    \n",
    "    history = model.fit(X_train, y_train,\n",
    "                    epochs=5,\n",
    "                    batch_size=256,\n",
    "                    verbose=0,\n",
    "                    validation_data=(X_test, y_test)\n",
    "                    )\n",
    "    print(f\"Оптимизатор = {opt.get_config()['name']}, Accuracy: {history.history['accuracy']}\")"
   ]
  },
  {
   "cell_type": "markdown",
   "metadata": {},
   "source": [
    "**Наилучшие результаты продемонстрировал оптимизатор Adam. Попробуем изменить параметры настройки самого оптимизатора**"
   ]
  },
  {
   "cell_type": "code",
   "execution_count": 150,
   "metadata": {},
   "outputs": [
    {
     "name": "stdout",
     "output_type": "stream",
     "text": [
      "Оптимизатор Adam, скорость обучения = 0.05, Accuracy: [0.6414999961853027, 0.8159000277519226, 0.8405166864395142, 0.8506333231925964, 0.855733335018158]\n",
      "Оптимизатор Adam, скорость обучения = 0.01, Accuracy: [0.7173833250999451, 0.8401333093643188, 0.8577166795730591, 0.8658166527748108, 0.8694000244140625]\n",
      "Оптимизатор Adam, скорость обучения = 0.001, Accuracy: [0.652899980545044, 0.8173333406448364, 0.8377166390419006, 0.8520500063896179, 0.8590166568756104]\n"
     ]
    }
   ],
   "source": [
    "for l_rate in [0.05,0.01,0.001]:\n",
    "    model = Sequential([\n",
    "    Dense(64, input_shape=(28 * 28,), activation='relu'),\n",
    "    Dense(32, activation='relu'),\n",
    "    Dense(10, activation='sigmoid')\n",
    "])\n",
    "    \n",
    "    model.compile(\n",
    "                  optimizer=op.Adam(learning_rate=l_rate,amsgrad=True),\n",
    "                  loss='categorical_crossentropy',\n",
    "                  metrics=['accuracy'],\n",
    "                )\n",
    "    \n",
    "    history = model.fit(X_train, y_train,\n",
    "                    epochs=5,\n",
    "                    batch_size=n_batch,\n",
    "                    verbose=0,\n",
    "                    validation_data=(X_test, y_test)\n",
    "                    )\n",
    "    print(f\"Оптимизатор Adam, скорость обучения = {l_rate}, Accuracy: {history.history['accuracy']}\")"
   ]
  },
  {
   "cell_type": "markdown",
   "metadata": {},
   "source": [
    "**Наилучшие результаты оптимизатор продемонстрировал при скорости обучения 0.01, и использовании AMSGrad варианта**"
   ]
  },
  {
   "cell_type": "markdown",
   "metadata": {},
   "source": [
    "Таким образом, мы выявили наиболее оптимальные параметры для нашей сети:\n",
    "    - Кол-во слоев: 2 (при числе параметров ~ 50 000)\n",
    "    - Кол-во нейронов в скрытом слое: 40\n",
    "    - Кол-во эпох: 20\n",
    "    - Размер батча: 100\n",
    "    - Оптимизатор: Adam (l_rate=0.01, ARMSgrad=True)\n",
    "    \n",
    "Попробуем обучить модель на этих параметрах."
   ]
  },
  {
   "cell_type": "code",
   "execution_count": 151,
   "metadata": {},
   "outputs": [],
   "source": [
    "model = Sequential([\n",
    "    Dense(64, input_shape=(28 * 28,), activation='relu'),\n",
    "    Dense(40, activation='relu'),\n",
    "    Dense(10, activation='sigmoid')\n",
    "])\n",
    "    \n",
    "model.compile(\n",
    "    optimizer=op.Adam(learning_rate=0.01,amsgrad=True),\n",
    "    loss='categorical_crossentropy',\n",
    "    metrics=['accuracy'],\n",
    ")\n",
    "    \n",
    "history = model.fit(X_train, y_train,\n",
    "                    epochs=20,\n",
    "                    batch_size=100,\n",
    "                    verbose=0,\n",
    "                    validation_data=(X_test, y_test)\n",
    "                   )"
   ]
  },
  {
   "cell_type": "code",
   "execution_count": 152,
   "metadata": {},
   "outputs": [
    {
     "data": {
      "text/plain": [
       "[0.805733323097229,\n",
       " 0.8511000275611877,\n",
       " 0.8616666793823242,\n",
       " 0.8662833571434021,\n",
       " 0.8721166849136353,\n",
       " 0.8756166696548462,\n",
       " 0.8790666460990906,\n",
       " 0.8825333118438721,\n",
       " 0.8839333057403564,\n",
       " 0.8861500024795532,\n",
       " 0.8864833116531372,\n",
       " 0.8896999955177307,\n",
       " 0.8914333581924438,\n",
       " 0.8916666507720947,\n",
       " 0.8928333520889282,\n",
       " 0.8944000005722046,\n",
       " 0.8948333263397217,\n",
       " 0.8961666822433472,\n",
       " 0.8945000171661377,\n",
       " 0.8963500261306763]"
      ]
     },
     "execution_count": 152,
     "metadata": {},
     "output_type": "execute_result"
    }
   ],
   "source": [
    "history.history['accuracy']"
   ]
  },
  {
   "cell_type": "code",
   "execution_count": 153,
   "metadata": {},
   "outputs": [
    {
     "data": {
      "text/plain": [
       "[0.8342000246047974,\n",
       " 0.8521000146865845,\n",
       " 0.85589998960495,\n",
       " 0.8537999987602234,\n",
       " 0.8525999784469604,\n",
       " 0.8592000007629395,\n",
       " 0.8568999767303467,\n",
       " 0.8629000186920166,\n",
       " 0.8672999739646912,\n",
       " 0.8683000206947327,\n",
       " 0.8636999726295471,\n",
       " 0.8623999953269958,\n",
       " 0.8677999973297119,\n",
       " 0.8561999797821045,\n",
       " 0.8668000102043152,\n",
       " 0.873199999332428,\n",
       " 0.8661999702453613,\n",
       " 0.8683000206947327,\n",
       " 0.8712000250816345,\n",
       " 0.8727999925613403]"
      ]
     },
     "execution_count": 153,
     "metadata": {},
     "output_type": "execute_result"
    }
   ],
   "source": [
    "history.history['val_accuracy']"
   ]
  },
  {
   "cell_type": "code",
   "execution_count": 154,
   "metadata": {
    "colab": {
     "base_uri": "https://localhost:8080/",
     "height": 265
    },
    "id": "xKpOPxNobbJ8",
    "outputId": "3b44cdae-3ba3-4175-fe7b-cef128da574c"
   },
   "outputs": [
    {
     "data": {
      "image/png": "[encoded data removed]",
      "text/plain": [
       "<Figure size 432x288 with 1 Axes>"
      ]
     },
     "metadata": {
      "needs_background": "light"
     },
     "output_type": "display_data"
    }
   ],
   "source": [
    "train_acc = history.history['accuracy']\n",
    "val_acc = history.history['val_accuracy']\n",
    "\n",
    "plt.plot(train_acc, label='train')\n",
    "plt.plot(val_acc, label='val')\n",
    "plt.legend();"
   ]
  },
  {
   "cell_type": "markdown",
   "metadata": {
    "id": "P7ERG-o79U9s"
   },
   "source": [
    "### **Оценка обученности нейронной сети**"
   ]
  },
  {
   "cell_type": "code",
   "execution_count": 155,
   "metadata": {
    "colab": {
     "base_uri": "https://localhost:8080/"
    },
    "id": "Xy_ZHJLRPZu1",
    "outputId": "c4881e03-6376-48c3-9e05-2e8915789331"
   },
   "outputs": [
    {
     "name": "stdout",
     "output_type": "stream",
     "text": [
      "100/100 [==============================] - 0s 3ms/step - loss: 0.3883 - accuracy: 0.8728\n"
     ]
    },
    {
     "data": {
      "text/plain": [
       "(0.3883098363876343, 0.8727999925613403)"
      ]
     },
     "execution_count": 155,
     "metadata": {},
     "output_type": "execute_result"
    }
   ],
   "source": [
    "loss, metric = model.evaluate(X_test, y_test, batch_size=100)\n",
    "loss, metric"
   ]
  },
  {
   "cell_type": "markdown",
   "metadata": {
    "id": "UHT1j0AX9U9t"
   },
   "source": [
    "### **Запуск нейронной сети для выполнения работы**\n",
    "\n",
    "На этой стадии мы можем попробовать запустить нейронную сеть на данных которые мы хотели бы чтобы она оценила. Осуществить распознавания объекта на фотографии например.\n",
    "Вот код для этих целей.\n",
    "\n",
    "В качестве аргумента здесь указывается массив данных."
   ]
  },
  {
   "cell_type": "code",
   "execution_count": 157,
   "metadata": {
    "colab": {
     "base_uri": "https://localhost:8080/"
    },
    "id": "LsCce3lEBVkh",
    "outputId": "864fdbdf-7ab6-418c-9bfa-a0dc63e01e63"
   },
   "outputs": [
    {
     "data": {
      "text/plain": [
       "(1, 784)"
      ]
     },
     "execution_count": 157,
     "metadata": {},
     "output_type": "execute_result"
    }
   ],
   "source": [
    "X_test[0][None].shape"
   ]
  },
  {
   "cell_type": "code",
   "execution_count": 158,
   "metadata": {
    "colab": {
     "base_uri": "https://localhost:8080/"
    },
    "id": "E12l3cq6P4_O",
    "outputId": "758bae2f-344b-4b41-fd7a-f2520795e4cf"
   },
   "outputs": [
    {
     "name": "stdout",
     "output_type": "stream",
     "text": [
      "1/1 [==============================] - 0s 45ms/step\n"
     ]
    },
    {
     "data": {
      "text/plain": [
       "array([[2.6031593e-03, 5.0173374e-04, 2.3218998e-04, 7.6389724e-06,\n",
       "        3.1500930e-04, 1.1155446e-01, 2.1750294e-04, 7.1573770e-01,\n",
       "        5.3397856e-05, 9.9928075e-01]], dtype=float32)"
      ]
     },
     "execution_count": 158,
     "metadata": {},
     "output_type": "execute_result"
    }
   ],
   "source": [
    "predictions = model.predict(X_test[0][None])\n",
    "predictions"
   ]
  },
  {
   "cell_type": "code",
   "execution_count": 159,
   "metadata": {
    "colab": {
     "base_uri": "https://localhost:8080/"
    },
    "id": "AasIPpL0TpgN",
    "outputId": "d932f40d-7b18-4cca-cc72-649bef0da12a"
   },
   "outputs": [
    {
     "data": {
      "text/plain": [
       "array([9], dtype=int64)"
      ]
     },
     "execution_count": 159,
     "metadata": {},
     "output_type": "execute_result"
    }
   ],
   "source": [
    "pred_labels = np.argmax(predictions, axis=1)\n",
    "pred_labels"
   ]
  },
  {
   "cell_type": "code",
   "execution_count": 160,
   "metadata": {
    "colab": {
     "base_uri": "https://localhost:8080/"
    },
    "id": "47wK4mK8T0dp",
    "outputId": "be07b0cb-4255-4453-eaf3-f0004b94ebbf"
   },
   "outputs": [
    {
     "data": {
      "text/plain": [
       "array([9, 2, 1], dtype=uint8)"
      ]
     },
     "execution_count": 160,
     "metadata": {},
     "output_type": "execute_result"
    }
   ],
   "source": [
    "y_test_labels[:3]"
   ]
  },
  {
   "cell_type": "markdown",
   "metadata": {},
   "source": [
    "-"
   ]
  },
  {
   "cell_type": "code",
   "execution_count": 161,
   "metadata": {
    "colab": {
     "base_uri": "https://localhost:8080/",
     "height": 225
    },
    "id": "wj7fhqd3FKFe",
    "outputId": "7feebef5-545a-4e73-b0cd-02ca53d25009"
   },
   "outputs": [
    {
     "name": "stdout",
     "output_type": "stream",
     "text": [
      "1/1 [==============================] - 0s 20ms/step\n"
     ]
    },
    {
     "data": {
      "image/png": "[encoded data removed]",
      "text/plain": [
       "<Figure size 1080x360 with 5 Axes>"
      ]
     },
     "metadata": {
      "needs_background": "light"
     },
     "output_type": "display_data"
    }
   ],
   "source": [
    "N = 5\n",
    "y_pred = model.predict(X_test[:N, :])\n",
    "y_pred_class = np.argmax(y_pred, axis=1)\n",
    "plt.figure(figsize=(3 * N, 5))\n",
    "\n",
    "for i in range(N):\n",
    "  plt.subplot(1, N, i+1)\n",
    "  plt.imshow(X_test[i,:].reshape(28, 28))\n",
    "  plt.xlabel(str(y_pred_class[i]))\n",
    "plt.show()  "
   ]
  },
  {
   "cell_type": "code",
   "execution_count": 162,
   "metadata": {
    "colab": {
     "base_uri": "https://localhost:8080/"
    },
    "id": "Q561c6eaGxcB",
    "outputId": "5d2deb90-ee80-49be-b596-12e2c4ea02af"
   },
   "outputs": [
    {
     "data": {
      "text/plain": [
       "array([9, 2, 1, 1, 6], dtype=int64)"
      ]
     },
     "execution_count": 162,
     "metadata": {},
     "output_type": "execute_result"
    }
   ],
   "source": [
    "y_pred_class"
   ]
  }
 ],
 "metadata": {
  "accelerator": "GPU",
  "colab": {
   "provenance": [],
   "toc_visible": true
  },
  "kernelspec": {
   "display_name": "Python 3 (ipykernel)",
   "language": "python",
   "name": "python3"
  },
  "language_info": {
   "codemirror_mode": {
    "name": "ipython",
    "version": 3
   },
   "file_extension": ".py",
   "mimetype": "text/x-python",
   "name": "python",
   "nbconvert_exporter": "python",
   "pygments_lexer": "ipython3",
   "version": "3.9.7"
  }
 },
 "nbformat": 4,
 "nbformat_minor": 1
}
